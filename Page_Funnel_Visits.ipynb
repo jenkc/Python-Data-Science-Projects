{
 "cells": [
  {
   "cell_type": "code",
   "execution_count": 1,
   "metadata": {},
   "outputs": [],
   "source": [
    "import pandas as pd"
   ]
  },
  {
   "cell_type": "markdown",
   "metadata": {},
   "source": [
    "Import all the files"
   ]
  },
  {
   "cell_type": "code",
   "execution_count": 2,
   "metadata": {},
   "outputs": [],
   "source": [
    "visits = pd.read_csv('visits.csv',\n",
    "                     parse_dates=[1])\n",
    "cart = pd.read_csv('cart.csv',\n",
    "                   parse_dates=[1])\n",
    "                   \n",
    "checkout = pd.read_csv('checkout.csv',\n",
    "                       parse_dates=[1])\n",
    "purchase = pd.read_csv('purchase.csv',\n",
    "                       parse_dates=[1])"
   ]
  },
  {
   "cell_type": "markdown",
   "metadata": {},
   "source": [
    "Step 1: Inspect the DataFrames using `print` and `head`"
   ]
  },
  {
   "cell_type": "code",
   "execution_count": 3,
   "metadata": {},
   "outputs": [
    {
     "name": "stdout",
     "output_type": "stream",
     "text": [
      "                                user_id          visit_time\n",
      "0  943647ef-3682-4750-a2e1-918ba6f16188 2017-04-07 15:14:00\n",
      "1  0c3a3dd0-fb64-4eac-bf84-ba069ce409f2 2017-01-26 14:24:00\n",
      "2  6e0b2d60-4027-4d9a-babd-0e7d40859fb1 2017-08-20 08:23:00\n",
      "3  6879527e-c5a6-4d14-b2da-50b85212b0ab 2017-11-04 18:15:00\n",
      "4  a84327ff-5daa-4ba1-b789-d5b4caf81e96 2017-02-27 11:25:00\n",
      "                                user_id           cart_time\n",
      "0  2be90e7c-9cca-44e0-bcc5-124b945ff168 2017-11-07 20:45:00\n",
      "1  4397f73f-1da3-4ab3-91af-762792e25973 2017-05-27 01:35:00\n",
      "2  a9db3d4b-0a0a-4398-a55a-ebb2c7adf663 2017-03-04 10:38:00\n",
      "3  b594862a-36c5-47d5-b818-6e9512b939b3 2017-09-27 08:22:00\n",
      "4  a68a16e2-94f0-4ce8-8ce3-784af0bbb974 2017-07-26 15:48:00\n",
      "                                user_id       checkout_time\n",
      "0  d33bdc47-4afa-45bc-b4e4-dbe948e34c0d 2017-06-25 09:29:00\n",
      "1  4ac186f0-9954-4fea-8a27-c081e428e34e 2017-04-07 20:11:00\n",
      "2  3c9c78a7-124a-4b77-8d2e-e1926e011e7d 2017-07-13 11:38:00\n",
      "3  89fe330a-8966-4756-8f7c-3bdbcd47279a 2017-04-20 16:15:00\n",
      "4  3ccdaf69-2d30-40de-b083-51372881aedd 2017-01-08 20:52:00\n",
      "                                user_id       purchase_time\n",
      "0  4b44ace4-2721-47a0-b24b-15fbfa2abf85 2017-05-11 04:25:00\n",
      "1  02e684ae-a448-408f-a9ff-dcb4a5c99aac 2017-09-05 08:45:00\n",
      "2  4b4bc391-749e-4b90-ab8f-4f6e3c84d6dc 2017-11-20 20:49:00\n",
      "3  a5dbb25f-3c36-4103-9030-9f7c6241cd8d 2017-01-22 15:18:00\n",
      "4  46a3186d-7f5a-4ab9-87af-84d05bfd4867 2017-06-11 11:32:00\n"
     ]
    }
   ],
   "source": [
    "print(visits.head(5))\n",
    "print(cart.head(5))\n",
    "print(checkout.head(5))\n",
    "print(purchase.head(5))"
   ]
  },
  {
   "cell_type": "markdown",
   "metadata": {},
   "source": [
    "Step 2: Left merging visits and cart"
   ]
  },
  {
   "cell_type": "code",
   "execution_count": 4,
   "metadata": {},
   "outputs": [
    {
     "name": "stdout",
     "output_type": "stream",
     "text": [
      "                                user_id          visit_time  \\\n",
      "0  943647ef-3682-4750-a2e1-918ba6f16188 2017-04-07 15:14:00   \n",
      "1  0c3a3dd0-fb64-4eac-bf84-ba069ce409f2 2017-01-26 14:24:00   \n",
      "2  6e0b2d60-4027-4d9a-babd-0e7d40859fb1 2017-08-20 08:23:00   \n",
      "3  6879527e-c5a6-4d14-b2da-50b85212b0ab 2017-11-04 18:15:00   \n",
      "4  a84327ff-5daa-4ba1-b789-d5b4caf81e96 2017-02-27 11:25:00   \n",
      "\n",
      "            cart_time  \n",
      "0                 NaT  \n",
      "1 2017-01-26 14:44:00  \n",
      "2 2017-08-20 08:31:00  \n",
      "3                 NaT  \n",
      "4                 NaT  \n"
     ]
    }
   ],
   "source": [
    "v_to_cart = pd.merge(visits, cart, how='left')\n",
    "print(v_to_cart.head())"
   ]
  },
  {
   "cell_type": "markdown",
   "metadata": {},
   "source": [
    "Step 3: How long is `visits_cart`?"
   ]
  },
  {
   "cell_type": "code",
   "execution_count": 5,
   "metadata": {},
   "outputs": [
    {
     "name": "stdout",
     "output_type": "stream",
     "text": [
      "2000\n"
     ]
    }
   ],
   "source": [
    "length = v_to_cart.visit_time.count()\n",
    "print(length)"
   ]
  },
  {
   "cell_type": "markdown",
   "metadata": {},
   "source": [
    "Step 4: How many timestamps are null for `cart_time`?"
   ]
  },
  {
   "cell_type": "code",
   "execution_count": 6,
   "metadata": {},
   "outputs": [
    {
     "name": "stdout",
     "output_type": "stream",
     "text": [
      "1652\n"
     ]
    }
   ],
   "source": [
    "nulls_cart = v_to_cart.cart_time.isnull().sum()\n",
    "print(nulls_cart)"
   ]
  },
  {
   "cell_type": "markdown",
   "metadata": {},
   "source": [
    "Step 5: What percentage only visited?"
   ]
  },
  {
   "cell_type": "code",
   "execution_count": 9,
   "metadata": {},
   "outputs": [
    {
     "name": "stdout",
     "output_type": "stream",
     "text": [
      "Percent visited, but did not use cart: 82.6\n",
      "1774\n"
     ]
    }
   ],
   "source": [
    "v_no_c = 100 * nulls_cart / length\n",
    "print(\"Percent visited, but did not use cart: {}\".format(v_no_c))\n",
    "v_to_checkout = pd.merge(v_to_cart, checkout, how='outer')\n",
    "nulls_checkout = v_to_checkout.checkout_time.isnull().sum()\n",
    "print(nulls_checkout)"
   ]
  },
  {
   "cell_type": "markdown",
   "metadata": {},
   "source": [
    "Step 6: What percentage placed a t-shirt in their cart but did not checkout?"
   ]
  },
  {
   "cell_type": "code",
   "execution_count": 10,
   "metadata": {},
   "outputs": [
    {
     "name": "stdout",
     "output_type": "stream",
     "text": [
      "Percent of carts that reached checkout: 64.94252873563218\n"
     ]
    }
   ],
   "source": [
    "sum_carts = v_to_checkout.cart_time.notnull().sum()\n",
    "sum_checkouts = v_to_checkout.checkout_time.notnull().sum()\n",
    "cart_to_checkout_pct = 100 * sum_checkouts / sum_carts\n",
    "print(\"Percent of carts that reached checkout: {percent}\".format(percent=cart_to_checkout_pct))"
   ]
  },
  {
   "cell_type": "markdown",
   "metadata": {},
   "source": [
    "Step 7: Merge it all together"
   ]
  },
  {
   "cell_type": "code",
   "execution_count": 11,
   "metadata": {},
   "outputs": [
    {
     "name": "stdout",
     "output_type": "stream",
     "text": [
      "                                   user_id          visit_time  \\\n",
      "0     943647ef-3682-4750-a2e1-918ba6f16188 2017-04-07 15:14:00   \n",
      "1     0c3a3dd0-fb64-4eac-bf84-ba069ce409f2 2017-01-26 14:24:00   \n",
      "2     6e0b2d60-4027-4d9a-babd-0e7d40859fb1 2017-08-20 08:23:00   \n",
      "3     6879527e-c5a6-4d14-b2da-50b85212b0ab 2017-11-04 18:15:00   \n",
      "4     a84327ff-5daa-4ba1-b789-d5b4caf81e96 2017-02-27 11:25:00   \n",
      "...                                    ...                 ...   \n",
      "2103  33913ac2-03da-45ae-8fc3-fea39df827c6 2017-03-25 03:29:00   \n",
      "2104  4f850132-b99d-4623-80e6-6e61d003577e 2017-01-08 09:57:00   \n",
      "2105  f0830b9b-1f5c-4e74-b63d-3f847cc6ce70 2017-09-07 12:56:00   \n",
      "2106  b01bffa7-63ba-4cd3-9d93-eb1477c23831 2017-07-20 04:37:00   \n",
      "2107  0336ca81-8d68-443f-9248-ac0b8ad147d5 2017-11-15 10:11:00   \n",
      "\n",
      "               cart_time       checkout_time       purchase_time  \n",
      "0                    NaT                 NaT                 NaT  \n",
      "1    2017-01-26 14:44:00 2017-01-26 14:54:00 2017-01-26 15:08:00  \n",
      "2    2017-08-20 08:31:00                 NaT                 NaT  \n",
      "3                    NaT                 NaT                 NaT  \n",
      "4                    NaT                 NaT                 NaT  \n",
      "...                  ...                 ...                 ...  \n",
      "2103                 NaT                 NaT                 NaT  \n",
      "2104                 NaT                 NaT                 NaT  \n",
      "2105                 NaT                 NaT                 NaT  \n",
      "2106                 NaT                 NaT                 NaT  \n",
      "2107                 NaT                 NaT                 NaT  \n",
      "\n",
      "[2108 rows x 5 columns]\n"
     ]
    }
   ],
   "source": [
    "all_steps = pd.merge(v_to_checkout, purchase, how='outer')\n",
    "print(all_steps)"
   ]
  },
  {
   "cell_type": "markdown",
   "metadata": {},
   "source": [
    "Step 8: % of users who got to checkout but did not purchase"
   ]
  },
  {
   "cell_type": "code",
   "execution_count": 12,
   "metadata": {},
   "outputs": [
    {
     "name": "stdout",
     "output_type": "stream",
     "text": [
      "Percent of checkouts that purchased: 89.68253968253968\n"
     ]
    }
   ],
   "source": [
    "sum_purchases = all_steps.purchase_time.notnull().sum()\n",
    "checkout_to_purchase_pct = 100 * sum_checkouts / sum_purchases\n",
    "print(\"Percent of checkouts that purchased: {}\".format(checkout_to_purchase_pct))"
   ]
  },
  {
   "cell_type": "markdown",
   "metadata": {},
   "source": [
    "Step 9: check each part of the funnel, let's print all 3 of them again"
   ]
  },
  {
   "cell_type": "code",
   "execution_count": 13,
   "metadata": {},
   "outputs": [
    {
     "name": "stdout",
     "output_type": "stream",
     "text": [
      "Percent of visitors that put item(s) in cart: 17.400000000000006\n",
      "Percent of carts that reached checkout: 64.94252873563218\n",
      "Percent of checkouts that purchased: 89.68253968253968\n"
     ]
    }
   ],
   "source": [
    "visit_to_cart_pct = 100 - v_no_c\n",
    "print(\"Percent of visitors that put item(s) in cart: {}\".format(visit_to_cart_pct))\n",
    "print(\"Percent of carts that reached checkout: {}\".format(cart_to_checkout_pct))\n",
    "print(\"Percent of checkouts that purchased: {}\".format(checkout_to_purchase_pct))"
   ]
  },
  {
   "cell_type": "markdown",
   "metadata": {},
   "source": [
    "*The weakest part of the funnel is clearly getting a person who visited the site to add a tshirt to their cart. Once they've added a t-shirt to their cart it is fairly likely they end up purchasing it. A suggestion could be to make the add-to-cart button more prominent on the front page.*\n",
    "\n",
    "\n",
    "Step 10: adding new column"
   ]
  },
  {
   "cell_type": "code",
   "execution_count": 22,
   "metadata": {},
   "outputs": [
    {
     "name": "stdout",
     "output_type": "stream",
     "text": [
      "     index                               user_id          visit_time  \\\n",
      "0        1  0c3a3dd0-fb64-4eac-bf84-ba069ce409f2 2017-01-26 14:24:00   \n",
      "1       14  486480e2-98c3-4d51-8f4b-b1c07228ce84 2017-01-27 16:34:00   \n",
      "2       48  3ccdaf69-2d30-40de-b083-51372881aedd 2017-01-08 20:21:00   \n",
      "3       49  3ccdaf69-2d30-40de-b083-51372881aedd 2017-01-08 20:21:00   \n",
      "4       65  ab0125fc-9493-4f59-ad70-24ad264a3a0c 2017-11-18 03:21:00   \n",
      "..     ...                                   ...                 ...   \n",
      "247   2083  d2cb350b-2201-4290-b2e0-84a8bf0d6883 2017-08-08 16:05:00   \n",
      "248   2093  f46c88d0-2441-40a8-97fe-6841ff6f050d 2017-09-06 08:42:00   \n",
      "249   2097  f783c680-1d9a-437d-9f45-7827299b78fa 2017-06-25 08:07:00   \n",
      "250   2098  f783c680-1d9a-437d-9f45-7827299b78fa 2017-06-25 08:07:00   \n",
      "251   2099  f783c680-1d9a-437d-9f45-7827299b78fa 2017-06-25 08:07:00   \n",
      "\n",
      "              cart_time       checkout_time       purchase_time  \n",
      "0   2017-01-26 14:44:00 2017-01-26 14:54:00 2017-01-26 15:08:00  \n",
      "1   2017-01-27 16:44:00 2017-01-27 17:10:00 2017-01-27 17:12:00  \n",
      "2   2017-01-08 20:38:00 2017-01-08 20:52:00 2017-01-08 21:02:00  \n",
      "3   2017-01-08 20:38:00 2017-01-08 20:52:00 2017-01-08 21:21:00  \n",
      "4   2017-11-18 03:33:00 2017-11-18 03:57:00 2017-11-18 04:21:00  \n",
      "..                  ...                 ...                 ...  \n",
      "247 2017-08-08 16:07:00 2017-08-08 16:34:00 2017-08-08 16:34:00  \n",
      "248 2017-09-06 09:02:00 2017-09-06 09:22:00 2017-09-06 09:28:00  \n",
      "249 2017-06-25 08:08:00 2017-06-25 08:28:00 2017-06-25 08:39:00  \n",
      "250 2017-06-25 08:08:00 2017-06-25 08:28:00 2017-06-25 08:35:00  \n",
      "251 2017-06-25 08:08:00 2017-06-25 08:28:00 2017-06-25 08:18:00  \n",
      "\n",
      "[252 rows x 6 columns]\n"
     ]
    }
   ],
   "source": [
    "purchase_funnel = all_steps[all_steps.purchase_time.notnull()].reset_index()\n",
    "print(purchase_funnel)"
   ]
  },
  {
   "cell_type": "markdown",
   "metadata": {},
   "source": [
    "Step 11: examine the results"
   ]
  },
  {
   "cell_type": "code",
   "execution_count": 27,
   "metadata": {},
   "outputs": [
    {
     "name": "stdout",
     "output_type": "stream",
     "text": [
      "     index                               user_id          visit_time  \\\n",
      "0        1  0c3a3dd0-fb64-4eac-bf84-ba069ce409f2 2017-01-26 14:24:00   \n",
      "1       14  486480e2-98c3-4d51-8f4b-b1c07228ce84 2017-01-27 16:34:00   \n",
      "2       48  3ccdaf69-2d30-40de-b083-51372881aedd 2017-01-08 20:21:00   \n",
      "3       49  3ccdaf69-2d30-40de-b083-51372881aedd 2017-01-08 20:21:00   \n",
      "4       65  ab0125fc-9493-4f59-ad70-24ad264a3a0c 2017-11-18 03:21:00   \n",
      "..     ...                                   ...                 ...   \n",
      "247   2083  d2cb350b-2201-4290-b2e0-84a8bf0d6883 2017-08-08 16:05:00   \n",
      "248   2093  f46c88d0-2441-40a8-97fe-6841ff6f050d 2017-09-06 08:42:00   \n",
      "249   2097  f783c680-1d9a-437d-9f45-7827299b78fa 2017-06-25 08:07:00   \n",
      "250   2098  f783c680-1d9a-437d-9f45-7827299b78fa 2017-06-25 08:07:00   \n",
      "251   2099  f783c680-1d9a-437d-9f45-7827299b78fa 2017-06-25 08:07:00   \n",
      "\n",
      "              cart_time       checkout_time       purchase_time  \\\n",
      "0   2017-01-26 14:44:00 2017-01-26 14:54:00 2017-01-26 15:08:00   \n",
      "1   2017-01-27 16:44:00 2017-01-27 17:10:00 2017-01-27 17:12:00   \n",
      "2   2017-01-08 20:38:00 2017-01-08 20:52:00 2017-01-08 21:02:00   \n",
      "3   2017-01-08 20:38:00 2017-01-08 20:52:00 2017-01-08 21:21:00   \n",
      "4   2017-11-18 03:33:00 2017-11-18 03:57:00 2017-11-18 04:21:00   \n",
      "..                  ...                 ...                 ...   \n",
      "247 2017-08-08 16:07:00 2017-08-08 16:34:00 2017-08-08 16:34:00   \n",
      "248 2017-09-06 09:02:00 2017-09-06 09:22:00 2017-09-06 09:28:00   \n",
      "249 2017-06-25 08:08:00 2017-06-25 08:28:00 2017-06-25 08:39:00   \n",
      "250 2017-06-25 08:08:00 2017-06-25 08:28:00 2017-06-25 08:35:00   \n",
      "251 2017-06-25 08:08:00 2017-06-25 08:28:00 2017-06-25 08:18:00   \n",
      "\n",
      "    time_to_purchase  \n",
      "0    0 days 00:44:00  \n",
      "1    0 days 00:38:00  \n",
      "2    0 days 00:41:00  \n",
      "3    0 days 01:00:00  \n",
      "4    0 days 01:00:00  \n",
      "..               ...  \n",
      "247  0 days 00:29:00  \n",
      "248  0 days 00:46:00  \n",
      "249  0 days 00:32:00  \n",
      "250  0 days 00:28:00  \n",
      "251  0 days 00:11:00  \n",
      "\n",
      "[252 rows x 7 columns]\n",
      "252\n"
     ]
    }
   ],
   "source": [
    "purchase_times = purchase_funnel.purchase_time - purchase_funnel.visit_time\n",
    "purchase_funnel['time_to_purchase'] = purchase_funnel.purchase_time - purchase_funnel.visit_time\n",
    "print(purchase_funnel)"
   ]
  },
  {
   "cell_type": "markdown",
   "metadata": {},
   "source": [
    "Step 12: average time to purchase"
   ]
  },
  {
   "cell_type": "code",
   "execution_count": 26,
   "metadata": {},
   "outputs": [
    {
     "name": "stdout",
     "output_type": "stream",
     "text": [
      "Average time from visit to purchase: 0 days 00:43:12.380952380\n"
     ]
    }
   ],
   "source": [
    "avg_time_to_purchase = purchase_times.mean()\n",
    "print(\"Average time from visit to purchase: {}\".format(avg_time_to_purchase))"
   ]
  }
 ],
 "metadata": {
  "kernelspec": {
   "display_name": "Python 3 (ipykernel)",
   "language": "python",
   "name": "python3"
  },
  "language_info": {
   "codemirror_mode": {
    "name": "ipython",
    "version": 3
   },
   "file_extension": ".py",
   "mimetype": "text/x-python",
   "name": "python",
   "nbconvert_exporter": "python",
   "pygments_lexer": "ipython3",
   "version": "3.10.5"
  }
 },
 "nbformat": 4,
 "nbformat_minor": 4
}
