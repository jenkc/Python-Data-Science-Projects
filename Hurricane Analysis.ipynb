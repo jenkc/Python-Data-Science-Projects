{
 "cells": [
  {
   "cell_type": "markdown",
   "id": "58875e7a",
   "metadata": {},
   "source": [
    "# Hurricane Analysis"
   ]
  },
  {
   "cell_type": "markdown",
   "id": "9a2d9627",
   "metadata": {},
   "source": [
    "#### Overview"
   ]
  },
  {
   "cell_type": "markdown",
   "id": "633e5dde",
   "metadata": {},
   "source": [
    "This project is slightly different than others you have encountered thus far. Instead of a step-by-step tutorial, this project contains a series of open-ended requirements which describe the project you'll be building. There are many possible ways to correctly fulfill all of these requirements, and you should expect to use the internet, Codecademy, and other resources when you encounter a problem that you cannot easily solve."
   ]
  },
  {
   "cell_type": "markdown",
   "id": "52f01f07",
   "metadata": {},
   "source": [
    "#### Project Goals"
   ]
  },
  {
   "cell_type": "markdown",
   "id": "d9d06c43",
   "metadata": {},
   "source": [
    "You will work to write several functions that organize and manipulate data about Category 5 Hurricanes, the strongest hurricanes as rated by their wind speed. Each one of these functions will use a number of parameters, conditionals, lists, dictionaries, string manipulation, and return statements."
   ]
  },
  {
   "cell_type": "markdown",
   "id": "7fbb9fb5",
   "metadata": {},
   "source": [
    "#### Prerequisites"
   ]
  },
  {
   "cell_type": "markdown",
   "id": "4732a1e8",
   "metadata": {},
   "source": [
    "In order to complete this project, you should have completed the Loops and Dictionaries sections of the [Learn Python 3 Course](https://www.codecademy.com/learn/learn-python-3). This content is also covered in the [Data Scientist Career Path](https://www.codecademy.com/learn/paths/data-science/)."
   ]
  },
  {
   "cell_type": "markdown",
   "id": "1e924903",
   "metadata": {},
   "source": [
    "## Project Requirements"
   ]
  },
  {
   "cell_type": "markdown",
   "id": "35d6f74d",
   "metadata": {},
   "source": [
    "1. Hurricanes, also known as cyclones or typhoons, are one of the most powerful forces of nature on Earth. Due to climate change caused by human activity, the number and intensity of hurricanes has risen, calling for better preparation by the many communities that are devastated by them. As a concerned environmentalist, you want to look at data about the most powerful hurricanes that have occured. \n",
    "\n",
    "   Begin by looking at the `damages` list. The list contains strings representing the total cost in USD(`$`) caused by `34` category 5 hurricanes (wind speeds $\\ge$ 157 mph (252 km/h)) in the Atlantic region. For some of the hurricanes, damage data was not recorded (`\"Damages not recorded\"`), while the rest are written in the format `\"Prefix-B/M\"`, where `B` stands for billions (`1000000000`) and `M` stands for millions (`1000000`).\n",
    "   \n",
    "   Write a function that returns a new list of updated damages where the recorded data is converted to float values and the missing data is retained as `\"Damages not recorded\"`.\n",
    "   \n",
    "   Test your function with the data stored in `damages`."
   ]
  },
  {
   "cell_type": "code",
   "execution_count": 14,
   "id": "d8d3c50b",
   "metadata": {},
   "outputs": [
    {
     "name": "stdout",
     "output_type": "stream",
     "text": [
      "['Damages not recorded', 100000000, 'Damages not recorded', 40000000, 27900000, 5000000, 'Damages not recorded', 306000000, 2000000, 65800000, 326000000, 60300000, 208000000, 1420000000, 25400000, 'Damages not recorded', 1540000000, 1240000000, 7100000000, 10000000000, 26500000000, 6200000000, 5370000000, 23300000000, 1010000000, 125000000000, 12000000000, 29400000000, 1760000000, 720000000, 15100000000, 64800000000, 91600000000, 25100000000]\n"
     ]
    }
   ],
   "source": [
    "\n",
    "# damages (USD($)) of hurricanes\n",
    "damages = ['Damages not recorded', '100M', 'Damages not recorded', '40M',\n",
    "          '27.9M', '5M', 'Damages not recorded', '306M', '2M', '65.8M',\n",
    "          '326M', '60.3M', '208M', '1.42B', '25.4M', 'Damages not recorded',\n",
    "          '1.54B', '1.24B', '7.1B', '10B', '26.5B', '6.2B', '5.37B', '23.3B',\n",
    "          '1.01B', '125B', '12B', '29.4B', '1.76B', '720M', '15.1B', '64.8B',\n",
    "          '91.6B', '25.1B']\n",
    "\n",
    "# 1\n",
    "def update_damages(damages):\n",
    "    updated_damages = []\n",
    "    for i in range(len(damages)): \n",
    "        if damages[i] == 'Damages not recorded':\n",
    "            updated_damages.append(damages[i])\n",
    "        elif damages[i][-1] == 'M':\n",
    "            updated_damages.append(int(float(damages[i][:-1]) * conversion['M']))\n",
    "        elif damages[i][-1] == 'B':\n",
    "            updated_damages.append(int(float(damages[i][:-1]) * conversion['B']))               \n",
    "    return updated_damages\n",
    "    \n",
    "# Update Recorded Damages\n",
    "conversion = {\"M\": 1000000,\n",
    "             \"B\": 1000000000}\n",
    "\n",
    "# test function by updating damages\n",
    "print(update_damages(damages))\n"
   ]
  },
  {
   "cell_type": "markdown",
   "id": "36ac47b6",
   "metadata": {},
   "source": [
    "2. Additional data collected on the `34` strongest Atlantic hurricanes are provided in a series of lists. The data includes:\n",
    "   - `names`: names of the hurricanes\n",
    "   - `months`: months in which the hurricanes occurred\n",
    "   - `years`: years in which the hurricanes occurred\n",
    "   - `max_sustained_winds`: maximum sustained winds (miles per hour) of the hurricanes\n",
    "   - `areas_affected`: list of different areas affected by each of the hurricanes\n",
    "   - `deaths`: total number of deaths caused by each of the hurricanes\n",
    "   \n",
    "   The data is organized such that the data at each index, from `0` to `33`, corresponds to the same hurricane.\n",
    "   \n",
    "   For example, `names[0]` yields the \"Cuba I\" hurricane, which occurred in `months[0]` (October) `years[0]` (1924).\n",
    "   \n",
    "   Write a function that constructs a dictionary made out of the lists, where the keys of the dictionary are the names of the hurricanes, and the values are dictionaries themselves containing a key for each piece of data (`Name`, `Month`, `Year`, `Max Sustained Wind`, `Areas Affected`, `Damage`, `Death`) about the hurricane.\n",
    "   \n",
    "   Thus the key `\"Cuba I\"` would have the value: `{'Name': 'Cuba I', 'Month': 'October', 'Year': 1924, 'Max Sustained Wind': 165, 'Areas Affected': ['Central America', 'Mexico', 'Cuba', 'Florida', 'The Bahamas'], 'Damage': 'Damages not recorded', 'Deaths': 90}`.\n",
    "   \n",
    "   Test your function on the lists of data provided."
   ]
  },
  {
   "cell_type": "code",
   "execution_count": 2,
   "id": "641aa113",
   "metadata": {
    "scrolled": true
   },
   "outputs": [],
   "source": [
    "# names of hurricanes\n",
    "names = ['Cuba I', 'San Felipe II Okeechobee', 'Bahamas', 'Cuba II', 'CubaBrownsville', 'Tampico', 'Labor Day', 'New England', 'Carol', 'Janet', 'Carla', 'Hattie', 'Beulah', 'Camille', 'Edith', 'Anita', 'David', 'Allen', 'Gilbert', 'Hugo', 'Andrew', 'Mitch', 'Isabel', 'Ivan', 'Emily', 'Katrina', 'Rita', 'Wilma', 'Dean', 'Felix', 'Matthew', 'Irma', 'Maria', 'Michael']\n",
    "\n",
    "# months of hurricanes\n",
    "months = ['October', 'September', 'September', 'November', 'August', 'September', 'September', 'September', 'September', 'September', 'September', 'October', 'September', 'August', 'September', 'September', 'August', 'August', 'September', 'September', 'August', 'October', 'September', 'September', 'July', 'August', 'September', 'October', 'August', 'September', 'October', 'September', 'September', 'October']\n",
    "\n",
    "# years of hurricanes\n",
    "years = [1924, 1928, 1932, 1932, 1933, 1933, 1935, 1938, 1953, 1955, 1961, 1961, 1967, 1969, 1971, 1977, 1979, 1980, 1988, 1989, 1992, 1998, 2003, 2004, 2005, 2005, 2005, 2005, 2007, 2007, 2016, 2017, 2017, 2018]\n",
    "\n",
    "# maximum sustained winds (mph) of hurricanes\n",
    "max_sustained_winds = [165, 160, 160, 175, 160, 160, 185, 160, 160, 175, 175, 160, 160, 175, 160, 175, 175, 190, 185, 160, 175, 180, 165, 165, 160, 175, 180, 185, 175, 175, 165, 180, 175, 160]\n",
    "\n",
    "# areas affected by each hurricane\n",
    "areas_affected = [['Central America', 'Mexico', 'Cuba', 'Florida', 'The Bahamas'], ['Lesser Antilles', 'The Bahamas', 'United States East Coast', 'Atlantic Canada'], ['The Bahamas', 'Northeastern United States'], ['Lesser Antilles', 'Jamaica', 'Cayman Islands', 'Cuba', 'The Bahamas', 'Bermuda'], ['The Bahamas', 'Cuba', 'Florida', 'Texas', 'Tamaulipas'], ['Jamaica', 'Yucatn Peninsula'], ['The Bahamas', 'Florida', 'Georgia', 'The Carolinas', 'Virginia'], ['Southeastern United States', 'Northeastern United States', 'Southwestern Quebec'], ['Bermuda', 'New England', 'Atlantic Canada'], ['Lesser Antilles', 'Central America'], ['Texas', 'Louisiana', 'Midwestern United States'], ['Central America'], ['The Caribbean', 'Mexico', 'Texas'], ['Cuba', 'United States Gulf Coast'], ['The Caribbean', 'Central America', 'Mexico', 'United States Gulf Coast'], ['Mexico'], ['The Caribbean', 'United States East coast'], ['The Caribbean', 'Yucatn Peninsula', 'Mexico', 'South Texas'], ['Jamaica', 'Venezuela', 'Central America', 'Hispaniola', 'Mexico'], ['The Caribbean', 'United States East Coast'], ['The Bahamas', 'Florida', 'United States Gulf Coast'], ['Central America', 'Yucatn Peninsula', 'South Florida'], ['Greater Antilles', 'Bahamas', 'Eastern United States', 'Ontario'], ['The Caribbean', 'Venezuela', 'United States Gulf Coast'], ['Windward Islands', 'Jamaica', 'Mexico', 'Texas'], ['Bahamas', 'United States Gulf Coast'], ['Cuba', 'United States Gulf Coast'], ['Greater Antilles', 'Central America', 'Florida'], ['The Caribbean', 'Central America'], ['Nicaragua', 'Honduras'], ['Antilles', 'Venezuela', 'Colombia', 'United States East Coast', 'Atlantic Canada'], ['Cape Verde', 'The Caribbean', 'British Virgin Islands', 'U.S. Virgin Islands', 'Cuba', 'Florida'], ['Lesser Antilles', 'Virgin Islands', 'Puerto Rico', 'Dominican Republic', 'Turks and Caicos Islands'], ['Central America', 'United States Gulf Coast (especially Florida Panhandle)']]\n",
    "\n",
    "# damages (USD($)) of hurricanes - UPDATE APPLIED\n",
    "damages = ['Damages not recorded', '100M', 'Damages not recorded', '40M', '27.9M', '5M', 'Damages not recorded', '306M', '2M', '65.8M', '326M', '60.3M', '208M', '1.42B', '25.4M', 'Damages not recorded', '1.54B', '1.24B', '7.1B', '10B', '26.5B', '6.2B', '5.37B', '23.3B', '1.01B', '125B', '12B', '29.4B', '1.76B', '720M', '15.1B', '64.8B', '91.6B', '25.1B']\n",
    "damages = update_damages(damages)\n",
    "\n",
    "# deaths for each hurricane\n",
    "deaths = [90,4000,16,3103,179,184,408,682,5,1023,43,319,688,259,37,11,2068,269,318,107,65,19325,51,124,17,1836,125,87,45,133,603,138,3057,74]\n",
    "\n",
    "\n"
   ]
  },
  {
   "cell_type": "markdown",
   "id": "6d0a1933",
   "metadata": {},
   "source": [
    "3. In addition to organizing the hurricanes in a dictionary with names as the key, you want to be able to organize the hurricanes by year.\n",
    "\n",
    "   Write a function that converts the current dictionary of hurricanes to a new dictionary, where the keys are years and the values are lists containing a dictionary for each hurricane that occurred in that year.\n",
    "   \n",
    "   For example, the key `1932` would yield the value: `[{'Name': 'Bahamas', 'Month': 'September', 'Year': 1932, 'Max Sustained Wind': 160, 'Areas Affected': ['The Bahamas', 'Northeastern United States'], 'Damage': 'Damage not recorded', 'Deaths': 16}, {'Name': 'Cuba II', 'Month': 'November', 'Year': 1932, 'Max Sustained Wind': 175, 'Areas Affected': ['Lesser Antilles', 'Jamaica', 'Cayman Islands', 'Cuba', 'The Bahamas', 'Bermuda'], 'Damage': 40000000.0, 'Deaths': 3103}]`.\n",
    "   \n",
    "   Test your function on your hurricane dictionary."
   ]
  },
  {
   "cell_type": "code",
   "execution_count": 3,
   "id": "1ef2edea",
   "metadata": {
    "scrolled": true
   },
   "outputs": [
    {
     "name": "stdout",
     "output_type": "stream",
     "text": [
      "{1924: [{'name': 'Cuba I', 'months': 'October', 'max_sustained_winds': 165, 'areas_affected': ['Central America', 'Mexico', 'Cuba', 'Florida', 'The Bahamas'], 'damages': 'Damages not recorded', 'deaths': 90}], 1928: [{'name': 'San Felipe II Okeechobee', 'months': 'September', 'max_sustained_winds': 160, 'areas_affected': ['Lesser Antilles', 'The Bahamas', 'United States East Coast', 'Atlantic Canada'], 'damages': 100000000, 'deaths': 4000}], 1932: [{'name': 'Bahamas', 'months': 'September', 'max_sustained_winds': 160, 'areas_affected': ['The Bahamas', 'Northeastern United States'], 'damages': 'Damages not recorded', 'deaths': 16}, {'name': 'Cuba II', 'months': 'November', 'max_sustained_winds': 175, 'areas_affected': ['Lesser Antilles', 'Jamaica', 'Cayman Islands', 'Cuba', 'The Bahamas', 'Bermuda'], 'damages': 40000000, 'deaths': 3103}], 1933: [{'name': 'CubaBrownsville', 'months': 'August', 'max_sustained_winds': 160, 'areas_affected': ['The Bahamas', 'Cuba', 'Florida', 'Texas', 'Tamaulipas'], 'damages': 27900000, 'deaths': 179}, {'name': 'Tampico', 'months': 'September', 'max_sustained_winds': 160, 'areas_affected': ['Jamaica', 'Yucatn Peninsula'], 'damages': 5000000, 'deaths': 184}], 1935: [{'name': 'Labor Day', 'months': 'September', 'max_sustained_winds': 185, 'areas_affected': ['The Bahamas', 'Florida', 'Georgia', 'The Carolinas', 'Virginia'], 'damages': 'Damages not recorded', 'deaths': 408}], 1938: [{'name': 'New England', 'months': 'September', 'max_sustained_winds': 160, 'areas_affected': ['Southeastern United States', 'Northeastern United States', 'Southwestern Quebec'], 'damages': 306000000, 'deaths': 682}], 1953: [{'name': 'Carol', 'months': 'September', 'max_sustained_winds': 160, 'areas_affected': ['Bermuda', 'New England', 'Atlantic Canada'], 'damages': 2000000, 'deaths': 5}], 1955: [{'name': 'Janet', 'months': 'September', 'max_sustained_winds': 175, 'areas_affected': ['Lesser Antilles', 'Central America'], 'damages': 65800000, 'deaths': 1023}], 1961: [{'name': 'Carla', 'months': 'September', 'max_sustained_winds': 175, 'areas_affected': ['Texas', 'Louisiana', 'Midwestern United States'], 'damages': 326000000, 'deaths': 43}, {'name': 'Hattie', 'months': 'October', 'max_sustained_winds': 160, 'areas_affected': ['Central America'], 'damages': 60300000, 'deaths': 319}], 1967: [{'name': 'Beulah', 'months': 'September', 'max_sustained_winds': 160, 'areas_affected': ['The Caribbean', 'Mexico', 'Texas'], 'damages': 208000000, 'deaths': 688}], 1969: [{'name': 'Camille', 'months': 'August', 'max_sustained_winds': 175, 'areas_affected': ['Cuba', 'United States Gulf Coast'], 'damages': 1420000000, 'deaths': 259}], 1971: [{'name': 'Edith', 'months': 'September', 'max_sustained_winds': 160, 'areas_affected': ['The Caribbean', 'Central America', 'Mexico', 'United States Gulf Coast'], 'damages': 25400000, 'deaths': 37}], 1977: [{'name': 'Anita', 'months': 'September', 'max_sustained_winds': 175, 'areas_affected': ['Mexico'], 'damages': 'Damages not recorded', 'deaths': 11}], 1979: [{'name': 'David', 'months': 'August', 'max_sustained_winds': 175, 'areas_affected': ['The Caribbean', 'United States East coast'], 'damages': 1540000000, 'deaths': 2068}], 1980: [{'name': 'Allen', 'months': 'August', 'max_sustained_winds': 190, 'areas_affected': ['The Caribbean', 'Yucatn Peninsula', 'Mexico', 'South Texas'], 'damages': 1240000000, 'deaths': 269}], 1988: [{'name': 'Gilbert', 'months': 'September', 'max_sustained_winds': 185, 'areas_affected': ['Jamaica', 'Venezuela', 'Central America', 'Hispaniola', 'Mexico'], 'damages': 7100000000, 'deaths': 318}], 1989: [{'name': 'Hugo', 'months': 'September', 'max_sustained_winds': 160, 'areas_affected': ['The Caribbean', 'United States East Coast'], 'damages': 10000000000, 'deaths': 107}], 1992: [{'name': 'Andrew', 'months': 'August', 'max_sustained_winds': 175, 'areas_affected': ['The Bahamas', 'Florida', 'United States Gulf Coast'], 'damages': 26500000000, 'deaths': 65}], 1998: [{'name': 'Mitch', 'months': 'October', 'max_sustained_winds': 180, 'areas_affected': ['Central America', 'Yucatn Peninsula', 'South Florida'], 'damages': 6200000000, 'deaths': 19325}], 2003: [{'name': 'Isabel', 'months': 'September', 'max_sustained_winds': 165, 'areas_affected': ['Greater Antilles', 'Bahamas', 'Eastern United States', 'Ontario'], 'damages': 5370000000, 'deaths': 51}], 2004: [{'name': 'Ivan', 'months': 'September', 'max_sustained_winds': 165, 'areas_affected': ['The Caribbean', 'Venezuela', 'United States Gulf Coast'], 'damages': 23300000000, 'deaths': 124}], 2005: [{'name': 'Emily', 'months': 'July', 'max_sustained_winds': 160, 'areas_affected': ['Windward Islands', 'Jamaica', 'Mexico', 'Texas'], 'damages': 1010000000, 'deaths': 17}, {'name': 'Katrina', 'months': 'August', 'max_sustained_winds': 175, 'areas_affected': ['Bahamas', 'United States Gulf Coast'], 'damages': 125000000000, 'deaths': 1836}, {'name': 'Rita', 'months': 'September', 'max_sustained_winds': 180, 'areas_affected': ['Cuba', 'United States Gulf Coast'], 'damages': 12000000000, 'deaths': 125}, {'name': 'Wilma', 'months': 'October', 'max_sustained_winds': 185, 'areas_affected': ['Greater Antilles', 'Central America', 'Florida'], 'damages': 29400000000, 'deaths': 87}], 2007: [{'name': 'Dean', 'months': 'August', 'max_sustained_winds': 175, 'areas_affected': ['The Caribbean', 'Central America'], 'damages': 1760000000, 'deaths': 45}, {'name': 'Felix', 'months': 'September', 'max_sustained_winds': 175, 'areas_affected': ['Nicaragua', 'Honduras'], 'damages': 720000000, 'deaths': 133}], 2016: [{'name': 'Matthew', 'months': 'October', 'max_sustained_winds': 165, 'areas_affected': ['Antilles', 'Venezuela', 'Colombia', 'United States East Coast', 'Atlantic Canada'], 'damages': 15100000000, 'deaths': 603}], 2017: [{'name': 'Irma', 'months': 'September', 'max_sustained_winds': 180, 'areas_affected': ['Cape Verde', 'The Caribbean', 'British Virgin Islands', 'U.S. Virgin Islands', 'Cuba', 'Florida'], 'damages': 64800000000, 'deaths': 138}, {'name': 'Maria', 'months': 'September', 'max_sustained_winds': 175, 'areas_affected': ['Lesser Antilles', 'Virgin Islands', 'Puerto Rico', 'Dominican Republic', 'Turks and Caicos Islands'], 'damages': 91600000000, 'deaths': 3057}], 2018: [{'name': 'Michael', 'months': 'October', 'max_sustained_winds': 160, 'areas_affected': ['Central America', 'United States Gulf Coast (especially Florida Panhandle)'], 'damages': 25100000000, 'deaths': 74}]}\n"
     ]
    }
   ],
   "source": [
    "# 2 Create a Table -  Create and view the hurricanes dictionary\n",
    "def create_dictionary(names, months, years, max_sustained_winds, areas_affected, damages, deaths):\n",
    "    \"\"\"Create dictionary of hurricanes with hurricane name as the key and a dictionary of hurricane data as the value.\"\"\"   \n",
    "    hurricaine_data = {}\n",
    "    for i in range(len(names)):\n",
    "        hurricaine_data[names[i]] = {'months': months[i], \n",
    "                                 'years': years[i], \n",
    "                                 'max_sustained_winds': max_sustained_winds[i], \n",
    "                                 'areas_affected': areas_affected[i], \n",
    "                                 'damages': damages[i],\n",
    "                                 'deaths': deaths[i]}\n",
    "    return hurricaine_data\n",
    "\n",
    "hurricaines = create_dictionary(names, months, years, max_sustained_winds, areas_affected, damages, deaths)\n",
    "# print(hurricaines)\n",
    "\n",
    "# 3 Organizing by Year -  create a new dictionary of hurricanes with year as key\n",
    "def by_year(input_dict):\n",
    "    years_dict = {}\n",
    "    for name, inner_dict in hurricaines.items():\n",
    "        current_year = inner_dict['years']\n",
    "        if current_year not in years_dict:\n",
    "            years_dict[current_year] = [{'name': name,\n",
    "                                        'months': inner_dict['months'],\n",
    "                                        'max_sustained_winds': inner_dict['max_sustained_winds'],\n",
    "                                        'areas_affected': inner_dict['areas_affected'],\n",
    "                                        'damages': inner_dict['damages'],\n",
    "                                        'deaths': inner_dict['deaths']}]     \n",
    "        else: # year already exists in table\n",
    "            years_dict[current_year] += [{'name': name,\n",
    "                                        'months': inner_dict['months'],\n",
    "                                        'max_sustained_winds': inner_dict['max_sustained_winds'],\n",
    "                                        'areas_affected': inner_dict['areas_affected'],\n",
    "                                        'damages': inner_dict['damages'],\n",
    "                                        'deaths': inner_dict['deaths']}]\n",
    "            \n",
    "    print(years_dict)\n",
    "by_year(hurricaines)"
   ]
  },
  {
   "cell_type": "markdown",
   "id": "66973f77",
   "metadata": {},
   "source": [
    "4. You believe that knowing how often each of the areas of the Atlantic are affected by these strong hurricanes is important for making preparations for future hurricanes.\n",
    "\n",
    "   Write a function that counts how often each area is listed as an affected area of a hurricane. Store and return the results in a dictionary where the keys are the affected areas and the values are counts of how many times the areas were affected.\n",
    "   \n",
    "   Test your function on your hurricane dictionary."
   ]
  },
  {
   "cell_type": "code",
   "execution_count": 4,
   "id": "bff86f77",
   "metadata": {},
   "outputs": [
    {
     "name": "stdout",
     "output_type": "stream",
     "text": [
      "{'Central America': 9, 'Mexico': 7, 'Cuba': 6, 'Florida': 6, 'The Bahamas': 7, 'Lesser Antilles': 4, 'United States East Coast': 3, 'Atlantic Canada': 3, 'Northeastern United States': 2, 'Jamaica': 4, 'Cayman Islands': 1, 'Bermuda': 2, 'Texas': 4, 'Tamaulipas': 1, 'Yucatn Peninsula': 3, 'Georgia': 1, 'The Carolinas': 1, 'Virginia': 1, 'Southeastern United States': 1, 'Southwestern Quebec': 1, 'New England': 1, 'Louisiana': 1, 'Midwestern United States': 1, 'The Caribbean': 8, 'United States Gulf Coast': 6, 'United States East coast': 1, 'South Texas': 1, 'Venezuela': 3, 'Hispaniola': 1, 'South Florida': 1, 'Greater Antilles': 2, 'Bahamas': 2, 'Eastern United States': 1, 'Ontario': 1, 'Windward Islands': 1, 'Nicaragua': 1, 'Honduras': 1, 'Antilles': 1, 'Colombia': 1, 'Cape Verde': 1, 'British Virgin Islands': 1, 'U.S. Virgin Islands': 1, 'Virgin Islands': 1, 'Puerto Rico': 1, 'Dominican Republic': 1, 'Turks and Caicos Islands': 1, 'United States Gulf Coast (especially Florida Panhandle)': 1}\n"
     ]
    }
   ],
   "source": [
    "# 4\n",
    "# Counting Damaged Areas\n",
    "\n",
    "# create dictionary of areas to store the number of hurricanes involved in\n",
    "def damaged_areas(hurricaines):\n",
    "    damaged_areas = {}\n",
    "    for storm, data in hurricaines.items():\n",
    "        for area in data['areas_affected']:\n",
    "            if area not in damaged_areas:\n",
    "                damaged_areas[area] = 1\n",
    "            else:\n",
    "                damaged_areas[area] += 1\n",
    "    return damaged_areas\n",
    "areas_dict = damaged_areas(hurricaines)\n",
    "print(areas_dict)"
   ]
  },
  {
   "cell_type": "markdown",
   "id": "e015eeb3",
   "metadata": {},
   "source": [
    "5. Write a function that finds the area affected by the most hurricanes, and how often it was hit.\n",
    "\n",
    "   Test your function on your affected area dictionary."
   ]
  },
  {
   "cell_type": "code",
   "execution_count": 5,
   "id": "643c73f9",
   "metadata": {},
   "outputs": [
    {
     "name": "stdout",
     "output_type": "stream",
     "text": [
      "Area Central America hit the most, with 9 repeated hurricaines.\n"
     ]
    }
   ],
   "source": [
    "# 5 Calculating Maximum Hurricane Count\n",
    "# find most frequently affected area and the number of hurricanes involved in\n",
    "def find_most_hit_area(areas_dict):\n",
    "    highest_count = 0\n",
    "    highest_area = \"\"\n",
    "    for area, count in areas_dict.items():\n",
    "        if count > highest_count:\n",
    "            highest_count = count\n",
    "            highest_area = area\n",
    "    return highest_area, highest_count\n",
    "\n",
    "area, count = find_most_hit_area(areas_dict)\n",
    "print('Area {} hit the most, with {} repeated hurricaines.'.format(area, count))"
   ]
  },
  {
   "cell_type": "markdown",
   "id": "4c120f59",
   "metadata": {},
   "source": [
    "6. Write a function that finds the hurricane that caused the greatest number of deaths, and how many deaths it caused.\n",
    "\n",
    "   Test your function on your hurricane dictionary."
   ]
  },
  {
   "cell_type": "code",
   "execution_count": 6,
   "id": "ced02448",
   "metadata": {},
   "outputs": [
    {
     "name": "stdout",
     "output_type": "stream",
     "text": [
      "Thea deadliest hurricaine was Mitch which caused 19325 deaths\n"
     ]
    }
   ],
   "source": [
    "# 6 Calculating the Deadliest Hurricane\n",
    "# find highest mortality hurricane and the number of deaths\n",
    "def find_deadliest(hurricaines):\n",
    "    highest_deaths = 0\n",
    "    for name, data in hurricaines.items():\n",
    "        if data['deaths'] > highest_deaths:\n",
    "            highest_deaths = data['deaths']\n",
    "            deadliest = name\n",
    "    return deadliest, highest_deaths\n",
    "deadly, number = find_deadliest(hurricaines)\n",
    "print('Thea deadliest hurricaine was {} which caused {} deaths'.format(deadly, number))"
   ]
  },
  {
   "cell_type": "markdown",
   "id": "9ddd39b0",
   "metadata": {},
   "source": [
    "7. Just as hurricanes are rated by their windspeed, you want to try rating hurricanes based on other metrics.\n",
    "\n",
    "   Write a function that rates hurricanes on a mortality scale according to the following ratings, where the key is the rating and the value is the upper bound of deaths for that rating.\n",
    "   \n",
    "   ```py\n",
    "   mortality_scale = {0: 0,\n",
    "   1: 100,\n",
    "   2: 500,\n",
    "   3: 1000,\n",
    "   4: 10000}\n",
    "   ```\n",
    "   \n",
    "   For example, a hurricane with a `1` mortality rating would have resulted in greater than `0` but less than or equal to `100` deaths. A hurricane with a `5` mortality would have resulted in greater than `10000` deaths.\n",
    "   \n",
    "   Store the hurricanes in a new dictionary where the keys are the mortaility ratings and the values are lists containing a dictionary for each hurricane that falls into that mortality rating.\n",
    "   \n",
    "   Test your function on your hurricane dictionary."
   ]
  },
  {
   "cell_type": "code",
   "execution_count": 12,
   "id": "9eea4dc7",
   "metadata": {},
   "outputs": [
    {
     "name": "stdout",
     "output_type": "stream",
     "text": [
      "{0: ['Cuba I', 'Bahamas', 'Carol', 'Carla', 'Edith', 'Anita', 'Andrew',\n",
      "     'Isabel', 'Emily', 'Wilma', 'Dean', 'Michael'],\n",
      " 1: ['CubaBrownsville', 'Tampico', 'Labor Day', 'Hattie', 'Camille', 'Allen',\n",
      "     'Gilbert', 'Hugo', 'Ivan', 'Rita', 'Felix', 'Irma'],\n",
      " 2: ['New England', 'Beulah', 'Matthew'],\n",
      " 3: ['San Felipe II Okeechobee', 'Cuba II', 'Janet', 'David', 'Katrina',\n",
      "     'Maria'],\n",
      " 4: ['Mitch']}\n"
     ]
    }
   ],
   "source": [
    "# 7 Rating Hurricanes by Mortality\n",
    "# categorize hurricanes in new dictionary with mortality severity as key\n",
    "def create_mortality_dict(hurricaines):\n",
    "    mortality_dict = {0: [], 1: [], 2: [], 3: [], 4: []}\n",
    "    mortality_scale = {0: 0,\n",
    "                       1: 100,\n",
    "                       2: 500,\n",
    "                       3: 1000,\n",
    "                       4: 10000}\n",
    "    for name, data in hurricaines.items():\n",
    "        if data['deaths'] >= 0 and data['deaths'] <= 100:\n",
    "            mortality_dict[0].append(name)\n",
    "        elif data['deaths'] > 100 and data['deaths'] <= 500:\n",
    "            mortality_dict[1].append(name)\n",
    "        elif data['deaths'] > 500 and data['deaths'] <= 1000:\n",
    "            mortality_dict[2].append(name)\n",
    "        elif data['deaths'] > 1000 and data['deaths'] <= 10000:\n",
    "            mortality_dict[3].append(name)\n",
    "        elif data['deaths'] > 10000:\n",
    "            mortality_dict[4].append(name)\n",
    "    return mortality_dict\n",
    "\n",
    "dict_by_mortality_scale = create_mortality_dict(hurricaines)\n",
    "pprint.pprint(dict_by_mortality_scale, compact=True)\n"
   ]
  },
  {
   "cell_type": "markdown",
   "id": "199b0e1c",
   "metadata": {},
   "source": [
    "8. Write a function that finds the hurricane that caused the greatest damage, and how costly it was.\n",
    "\n",
    "   Test your function on your hurricane dictionary."
   ]
  },
  {
   "cell_type": "code",
   "execution_count": 18,
   "id": "b3dc79b4",
   "metadata": {},
   "outputs": [
    {
     "name": "stdout",
     "output_type": "stream",
     "text": [
      "The most expensive hurricaine was Katrina which caused $125000000000 in damages\n"
     ]
    }
   ],
   "source": [
    "# 8 Calculating Hurricane Maximum Damage\n",
    "# find highest damage inducing hurricane and its total cost\n",
    "def find_costliest(hurricaines):\n",
    "    costliest_amt = 0\n",
    "    costliest_name = ''\n",
    "    for name, data in hurricaines.items():\n",
    "        if data['damages'] != 'Damages not recorded':\n",
    "            if data['damages'] > costliest_amt:\n",
    "                costliest_amt = data['damages']\n",
    "                costliest_name = name\n",
    "        else:\n",
    "            continue\n",
    "    return costliest_name, costliest_amt\n",
    "\n",
    "costly_name, costly_amt = find_costliest(hurricaines)\n",
    "print('The most expensive hurricaine was {} which caused ${} in damages'.format(costly_name, costly_amt))"
   ]
  },
  {
   "cell_type": "markdown",
   "id": "58d22ddc",
   "metadata": {},
   "source": [
    "9. Lastly, you want to rate hurricanes according to how much damage they cause.\n",
    "\n",
    "   Write a function that rates hurricanes on a damage scale according to the following ratings, where the key is the rating and the value is the upper bound of damage for that rating.\n",
    "   ```py\n",
    "   damage_scale = {0: 0,\n",
    "   1: 100000000,\n",
    "   2: 1000000000,\n",
    "   3: 10000000000,\n",
    "   4: 50000000000}\n",
    "   ```\n",
    "   \n",
    "   For example, a hurricane with a `1` damage rating would have resulted in damages greater than `0` USD but less than or equal to `100000000` USD. A hurricane with a `5` damage rating would have resulted in damages greater than `50000000000` USD (talk about a lot of money).\n",
    "   \n",
    "   Store the hurricanes in a new dictionary where the keys are damage ratings and the values are lists containing a dictionary for each hurricane that falls into that damage rating.\n",
    "   \n",
    "   Test your function on your hurricane dictionary."
   ]
  },
  {
   "cell_type": "code",
   "execution_count": 21,
   "id": "e543f487",
   "metadata": {},
   "outputs": [
    {
     "name": "stdout",
     "output_type": "stream",
     "text": [
      "{0: ['San Felipe II Okeechobee', 'Cuba II', 'CubaBrownsville', 'Tampico',\n",
      "     'Carol', 'Janet', 'Hattie', 'Edith'],\n",
      " 1: ['New England', 'Carla', 'Beulah', 'Felix'],\n",
      " 2: ['Camille', 'David', 'Allen', 'Gilbert', 'Hugo', 'Mitch', 'Isabel', 'Emily',\n",
      "     'Dean'],\n",
      " 3: ['Andrew', 'Ivan', 'Rita', 'Wilma', 'Matthew', 'Michael'],\n",
      " 4: ['Katrina', 'Irma', 'Maria']}\n"
     ]
    }
   ],
   "source": [
    "# 9\n",
    "# Rating Hurricanes by Damage\n",
    "damage_scale = {0: 0,\n",
    "                1: 100000000,\n",
    "                2: 1000000000,\n",
    "                3: 10000000000,\n",
    "                4: 50000000000}\n",
    "\n",
    "# categorize hurricanes in new dictionary with damage severity as key\n",
    "def create_mortality_dict(hurricaines):\n",
    "    damage_dict = {0: [], 1: [], 2: [], 3: [], 4: []}\n",
    "    for name, data in hurricaines.items():\n",
    "        if data['damages'] == 'Damages not recorded':\n",
    "            continue\n",
    "        if data['damages'] >= 0 and data['damages'] <= 100000000:\n",
    "            damage_dict[0].append(name)\n",
    "        elif data['damages'] > 100 and data['damages'] <= 1000000000:\n",
    "            damage_dict[1].append(name)\n",
    "        elif data['damages'] > 500 and data['damages'] <= 10000000000:\n",
    "            damage_dict[2].append(name)\n",
    "        elif data['damages'] > 1000 and data['damages'] <= 50000000000:\n",
    "            damage_dict[3].append(name)\n",
    "        elif data['damages'] > 50000000000:\n",
    "            damage_dict[4].append(name)\n",
    "    return damage_dict\n",
    "\n",
    "dict_by_mortality_scale = create_mortality_dict(hurricaines)\n",
    "pprint.pprint(dict_by_mortality_scale, compact=True)"
   ]
  },
  {
   "cell_type": "markdown",
   "id": "928c5fd2",
   "metadata": {},
   "source": [
    "## Solution"
   ]
  },
  {
   "cell_type": "markdown",
   "id": "252616a3",
   "metadata": {},
   "source": [
    "Great work! View the **Hurricane Analysis_Solution.ipynb** file or visit [our forums](https://discuss.codecademy.com/t/hurricane-analysis-challenge-project-python/462363) to compare your project to our sample solution code. You can also learn how to host your own solution on GitHub so you can share it with other learners! Your solution might look different than ours, and that's okay! There are multiple ways to solve these projects, and you'll learn more by seeing others' code."
   ]
  },
  {
   "cell_type": "code",
   "execution_count": null,
   "id": "da8f7141",
   "metadata": {},
   "outputs": [],
   "source": []
  }
 ],
 "metadata": {
  "kernelspec": {
   "display_name": "Python 3 (ipykernel)",
   "language": "python",
   "name": "python3"
  },
  "language_info": {
   "codemirror_mode": {
    "name": "ipython",
    "version": 3
   },
   "file_extension": ".py",
   "mimetype": "text/x-python",
   "name": "python",
   "nbconvert_exporter": "python",
   "pygments_lexer": "ipython3",
   "version": "3.10.5"
  },
  "vscode": {
   "interpreter": {
    "hash": "b784193cf0f9970b27f3c12f21dbff8ed97e3cf923dc23fe210654173bc3fdd0"
   }
  }
 },
 "nbformat": 4,
 "nbformat_minor": 5
}
